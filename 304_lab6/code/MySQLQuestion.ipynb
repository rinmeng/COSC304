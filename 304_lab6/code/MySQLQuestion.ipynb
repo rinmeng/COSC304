{
 "cells": [
  {
   "cell_type": "code",
   "execution_count": 1,
   "metadata": {},
   "outputs": [
    {
     "name": "stdout",
     "output_type": "stream",
     "text": [
      "\n",
      "Supervisor: B. Casey\n",
      "   M. Smith , 50000.00\n",
      "\n",
      "Supervisor: J. Jones\n",
      "   B. Casey , 50000.00\n",
      "   R. Davis , 40000.00\n",
      "\n",
      "Supervisor: L. Chu\n",
      "   J. Miller , 20000.00\n",
      "\n",
      "Supervisor: M. Smith\n",
      "   J. Doe , 30000.00\n",
      "\n",
      "Supervisor: R. Davis\n",
      "   A. Lee , 40000.00\n",
      "   L. Chu , 30000.00\n"
     ]
    }
   ],
   "source": [
    "import mysql.connector\n",
    "try:\n",
    "    cnx = mysql.connector.connect(user='testuser', password='todo', host='localhost', database='workson')\n",
    "    cursor = cnx.cursor(buffered=True)\n",
    "    query = \"SELECT eno, ename FROM emp WHERE eno IN (SELECT supereno FROM emp) ORDER BY ename\"\n",
    "    cursor.execute(query)\n",
    "    for (eno, ename) in cursor:\n",
    "        print(\"\\nSupervisor:\", ename);\n",
    "\n",
    "        # Look up employees directly supervised by this supervisor\n",
    "        cursor2 = cnx.cursor()\n",
    "        query2 = \"SELECT ename, salary FROM emp WHERE supereno = %s ORDER BY salary DESC\"\n",
    "        cursor2.execute(query2, (eno,))\n",
    "        for (ename, salary) in cursor2:\n",
    "            print(\"  \", ename, \",\", salary)\n",
    "        cursor2.close()\n",
    "    cursor.close()\n",
    "except mysql.connector.Error as err:  \n",
    "    print(err)\n",
    "finally:\n",
    "    cnx.close()"
   ]
  },
  {
   "cell_type": "code",
   "execution_count": null,
   "metadata": {},
   "outputs": [],
   "source": []
  }
 ],
 "metadata": {
  "kernelspec": {
   "display_name": "Python 3.8.3 ('base')",
   "language": "python",
   "name": "python3"
  },
  "language_info": {
   "codemirror_mode": {
    "name": "ipython",
    "version": 3
   },
   "file_extension": ".py",
   "mimetype": "text/x-python",
   "name": "python",
   "nbconvert_exporter": "python",
   "pygments_lexer": "ipython3",
   "version": "3.8.3"
  },
  "vscode": {
   "interpreter": {
    "hash": "42aaeb9f2d91c164f48235f19a39c958b2a210117dc30f15ef7c07ea99865639"
   }
  }
 },
 "nbformat": 4,
 "nbformat_minor": 2
}
