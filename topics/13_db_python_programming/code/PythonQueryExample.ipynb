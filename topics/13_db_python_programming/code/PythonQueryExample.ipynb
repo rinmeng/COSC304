{
 "cells": [
  {
   "cell_type": "code",
   "execution_count": 3,
   "metadata": {},
   "outputs": [
    {
     "name": "stdout",
     "output_type": "stream",
     "text": [
      "J. Doe 30000.00\n",
      "M. Smith 50000.00\n",
      "A. Lee 40000.00\n",
      "J. Miller 20000.00\n",
      "B. Casey 50000.00\n",
      "L. Chu 30000.00\n",
      "R. Davis 40000.00\n",
      "J. Jones 50000.00\n"
     ]
    }
   ],
   "source": [
    "import mysql.connector\n",
    "try:\n",
    "    cnx = mysql.connector.connect(user='todo', password='todo', host='localhost', database='workson', ssl_disabled='True')\n",
    "    cursor = cnx.cursor()\n",
    "    query = \"SELECT ename, salary FROM emp\"                \n",
    "    cursor.execute(query)\n",
    "    for (ename, salary) in cursor:\n",
    "        print(ename, salary)\n",
    "    cursor.close()\n",
    "except mysql.connector.Error as err:  \n",
    "    print(err)\n",
    "finally:\n",
    "    cnx.close()\n"
   ]
  },
  {
   "cell_type": "code",
   "execution_count": null,
   "metadata": {},
   "outputs": [],
   "source": []
  }
 ],
 "metadata": {
  "kernelspec": {
   "display_name": "Python 3",
   "language": "python",
   "name": "python3"
  },
  "language_info": {
   "codemirror_mode": {
    "name": "ipython",
    "version": 3
   },
   "file_extension": ".py",
   "mimetype": "text/x-python",
   "name": "python",
   "nbconvert_exporter": "python",
   "pygments_lexer": "ipython3",
   "version": "3.6.4"
  }
 },
 "nbformat": 4,
 "nbformat_minor": 2
}
